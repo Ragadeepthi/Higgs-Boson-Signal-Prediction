{
 "cells": [
  {
   "cell_type": "code",
   "execution_count": 257,
   "metadata": {},
   "outputs": [],
   "source": [
    "import numpy as np\n",
    "import pandas as pd\n",
    "import os\n",
    "\n",
    "#for splitting \n",
    "from sklearn.model_selection import train_test_split\n",
    "\n",
    "#for preprocessing,metrics evaluation\n",
    "from sklearn import preprocessing, metrics, cross_validation\n",
    "from sklearn.metrics import confusion_matrix, accuracy_score, recall_score, classification_report, cohen_kappa_score\n",
    "\n",
    "#for scaling\n",
    "from sklearn.preprocessing import StandardScaler\n",
    "\n",
    "#models \n",
    "#svm\n",
    "from sklearn import svm\n",
    "#Randomforest\n",
    "from sklearn.ensemble import RandomForestClassifier\n",
    "from sklearn.ensemble import BaggingClassifier\n",
    "#Decision Tree\n",
    "from sklearn.tree import DecisionTreeClassifier \n",
    "\n",
    "#Gridsearch\n",
    "from sklearn.model_selection import GridSearchCV\n",
    "\n",
    "#Visualization\n",
    "import seaborn as sns\n",
    "import matplotlib.pyplot as plt"
   ]
  },
  {
   "cell_type": "code",
   "execution_count": 258,
   "metadata": {},
   "outputs": [],
   "source": [
    "#change working directory\n",
    "os.chdir(\"D:/HoTes/CSC7305c_ML_Hot_2383_Batch49/Datasets\")"
   ]
  },
  {
   "cell_type": "code",
   "execution_count": 259,
   "metadata": {},
   "outputs": [],
   "source": [
    "#Read train and test datasets from csv\n",
    "hb_data= pd.read_csv(\"CSE7302c_train.csv\", sep=',')\n",
    "hb_data_test= pd.read_csv(\"CSE7302c_test.csv\", sep=',', na_values=\"?\",  keep_default_na=True)"
   ]
  },
  {
   "cell_type": "code",
   "execution_count": 260,
   "metadata": {},
   "outputs": [
    {
     "data": {
      "text/plain": [
       "(68636, 30)"
      ]
     },
     "execution_count": 260,
     "metadata": {},
     "output_type": "execute_result"
    }
   ],
   "source": [
    "#Checking train data Dimensions\n",
    "hb_data.shape"
   ]
  },
  {
   "cell_type": "code",
   "execution_count": 261,
   "metadata": {
    "scrolled": false
   },
   "outputs": [
    {
     "name": "stdout",
     "output_type": "stream",
     "text": [
      "<class 'pandas.core.frame.DataFrame'>\n",
      "RangeIndex: 68636 entries, 0 to 68635\n",
      "Data columns (total 30 columns):\n",
      "class                       68636 non-null int64\n",
      "lepton_pT                   68636 non-null float64\n",
      "lepton_eta                  68636 non-null float64\n",
      "lepton_phi                  68636 non-null float64\n",
      "missing_energy_magnitude    68636 non-null float64\n",
      "missing_energy_phi          68636 non-null float64\n",
      "jet1pt                      68636 non-null float64\n",
      "jet1eta                     68636 non-null float64\n",
      "jet1phi                     68636 non-null float64\n",
      "jet1b.tag                   68636 non-null float64\n",
      "jet2pt                      68636 non-null float64\n",
      "jet2eta                     68636 non-null float64\n",
      "jet2phi                     68636 non-null float64\n",
      "jet2b.tag                   68636 non-null float64\n",
      "jet3pt                      68636 non-null float64\n",
      "jet3eta                     68636 non-null float64\n",
      "jet3phi                     68636 non-null float64\n",
      "jet3b.tag                   68636 non-null float64\n",
      "jet4pt                      68636 non-null float64\n",
      "jet4eta                     68636 non-null float64\n",
      "jet4phi                     68636 non-null float64\n",
      "jet4b.tag                   68636 non-null float64\n",
      "m_jj                        68636 non-null float64\n",
      "m_jjj                       68636 non-null float64\n",
      "m_lv                        68636 non-null float64\n",
      "m_jlv                       68636 non-null float64\n",
      "m_bb                        68636 non-null float64\n",
      "m_wbb                       68636 non-null float64\n",
      "m_wwbb                      68636 non-null float64\n",
      "id                          68636 non-null int64\n",
      "dtypes: float64(28), int64(2)\n",
      "memory usage: 15.7 MB\n"
     ]
    }
   ],
   "source": [
    "#checking train data datatypes\n",
    "hb_data.info()"
   ]
  },
  {
   "cell_type": "code",
   "execution_count": 262,
   "metadata": {},
   "outputs": [
    {
     "data": {
      "text/plain": [
       "(29414, 30)"
      ]
     },
     "execution_count": 262,
     "metadata": {},
     "output_type": "execute_result"
    }
   ],
   "source": [
    "#check test data dimensions\n",
    "hb_data_test.shape"
   ]
  },
  {
   "cell_type": "code",
   "execution_count": 263,
   "metadata": {},
   "outputs": [
    {
     "name": "stdout",
     "output_type": "stream",
     "text": [
      "<class 'pandas.core.frame.DataFrame'>\n",
      "RangeIndex: 29414 entries, 0 to 29413\n",
      "Data columns (total 30 columns):\n",
      "class                       29414 non-null int64\n",
      "lepton_pT                   29414 non-null float64\n",
      "lepton_eta                  29414 non-null float64\n",
      "lepton_phi                  29414 non-null float64\n",
      "missing_energy_magnitude    29414 non-null float64\n",
      "missing_energy_phi          29414 non-null float64\n",
      "jet1pt                      29414 non-null float64\n",
      "jet1eta                     29414 non-null float64\n",
      "jet1phi                     29414 non-null float64\n",
      "jet1b.tag                   29414 non-null float64\n",
      "jet2pt                      29414 non-null float64\n",
      "jet2eta                     29414 non-null float64\n",
      "jet2phi                     29414 non-null float64\n",
      "jet2b.tag                   29414 non-null float64\n",
      "jet3pt                      29414 non-null float64\n",
      "jet3eta                     29414 non-null float64\n",
      "jet3phi                     29414 non-null float64\n",
      "jet3b.tag                   29414 non-null float64\n",
      "jet4pt                      29414 non-null float64\n",
      "jet4eta                     29414 non-null float64\n",
      "jet4phi                     29413 non-null float64\n",
      "jet4b.tag                   29413 non-null float64\n",
      "m_jj                        29413 non-null float64\n",
      "m_jjj                       29413 non-null float64\n",
      "m_lv                        29413 non-null float64\n",
      "m_jlv                       29413 non-null float64\n",
      "m_bb                        29413 non-null float64\n",
      "m_wbb                       29413 non-null float64\n",
      "m_wwbb                      29413 non-null float64\n",
      "id                          29414 non-null int64\n",
      "dtypes: float64(28), int64(2)\n",
      "memory usage: 6.7 MB\n"
     ]
    }
   ],
   "source": [
    "#check test data dimensions\n",
    "hb_data_test.info()"
   ]
  },
  {
   "cell_type": "code",
   "execution_count": 264,
   "metadata": {
    "scrolled": false
   },
   "outputs": [],
   "source": [
    "#changing object to float datatyes in test\n",
    "test_cols= [\"jet4phi\",\"jet4b.tag\",\"m_jj\",\"m_jjj\",\"m_lv\",\"m_jlv\",\"m_bb\",\"m_wbb\",\"m_wwbb\"]\n",
    "hb_data_test[test_cols] = hb_data_test[test_cols].astype('float64')"
   ]
  },
  {
   "cell_type": "code",
   "execution_count": 265,
   "metadata": {},
   "outputs": [
    {
     "name": "stdout",
     "output_type": "stream",
     "text": [
      "<class 'pandas.core.frame.DataFrame'>\n",
      "RangeIndex: 29414 entries, 0 to 29413\n",
      "Data columns (total 30 columns):\n",
      "class                       29414 non-null int64\n",
      "lepton_pT                   29414 non-null float64\n",
      "lepton_eta                  29414 non-null float64\n",
      "lepton_phi                  29414 non-null float64\n",
      "missing_energy_magnitude    29414 non-null float64\n",
      "missing_energy_phi          29414 non-null float64\n",
      "jet1pt                      29414 non-null float64\n",
      "jet1eta                     29414 non-null float64\n",
      "jet1phi                     29414 non-null float64\n",
      "jet1b.tag                   29414 non-null float64\n",
      "jet2pt                      29414 non-null float64\n",
      "jet2eta                     29414 non-null float64\n",
      "jet2phi                     29414 non-null float64\n",
      "jet2b.tag                   29414 non-null float64\n",
      "jet3pt                      29414 non-null float64\n",
      "jet3eta                     29414 non-null float64\n",
      "jet3phi                     29414 non-null float64\n",
      "jet3b.tag                   29414 non-null float64\n",
      "jet4pt                      29414 non-null float64\n",
      "jet4eta                     29414 non-null float64\n",
      "jet4phi                     29413 non-null float64\n",
      "jet4b.tag                   29413 non-null float64\n",
      "m_jj                        29413 non-null float64\n",
      "m_jjj                       29413 non-null float64\n",
      "m_lv                        29413 non-null float64\n",
      "m_jlv                       29413 non-null float64\n",
      "m_bb                        29413 non-null float64\n",
      "m_wbb                       29413 non-null float64\n",
      "m_wwbb                      29413 non-null float64\n",
      "id                          29414 non-null int64\n",
      "dtypes: float64(28), int64(2)\n",
      "memory usage: 6.7 MB\n"
     ]
    }
   ],
   "source": [
    "hb_data_test.info()"
   ]
  },
  {
   "cell_type": "code",
   "execution_count": 266,
   "metadata": {},
   "outputs": [
    {
     "name": "stdout",
     "output_type": "stream",
     "text": [
      "train target modified datatype: category\n",
      "test target modified datatype: category\n"
     ]
    }
   ],
   "source": [
    "#convert target columns into category in train and test\n",
    "hb_data['class'] = hb_data['class'].astype('category')\n",
    "hb_data_test['class'] = hb_data_test['class'].astype('category')\n",
    "print(\"train target modified datatype:\",hb_data['class'].dtypes)\n",
    "print(\"test target modified datatype:\",hb_data_test['class'].dtypes)"
   ]
  },
  {
   "cell_type": "code",
   "execution_count": 267,
   "metadata": {},
   "outputs": [
    {
     "name": "stdout",
     "output_type": "stream",
     "text": [
      "train modified dimensions: (68636, 29)\n",
      "test modified dimensions: (29414, 29)\n"
     ]
    }
   ],
   "source": [
    "#Dopping id columns\n",
    "hb_data = hb_data.drop('id',1)\n",
    "hb_data_test = hb_data_test.drop('id',1)\n",
    "print(\"train modified dimensions:\",hb_data.shape)\n",
    "print(\"test modified dimensions:\",hb_data_test.shape)"
   ]
  },
  {
   "cell_type": "code",
   "execution_count": 268,
   "metadata": {},
   "outputs": [
    {
     "name": "stdout",
     "output_type": "stream",
     "text": [
      "na values in Train \n",
      " class                       0\n",
      "lepton_pT                   0\n",
      "lepton_eta                  0\n",
      "lepton_phi                  0\n",
      "missing_energy_magnitude    0\n",
      "missing_energy_phi          0\n",
      "jet1pt                      0\n",
      "jet1eta                     0\n",
      "jet1phi                     0\n",
      "jet1b.tag                   0\n",
      "jet2pt                      0\n",
      "jet2eta                     0\n",
      "jet2phi                     0\n",
      "jet2b.tag                   0\n",
      "jet3pt                      0\n",
      "jet3eta                     0\n",
      "jet3phi                     0\n",
      "jet3b.tag                   0\n",
      "jet4pt                      0\n",
      "jet4eta                     0\n",
      "jet4phi                     0\n",
      "jet4b.tag                   0\n",
      "m_jj                        0\n",
      "m_jjj                       0\n",
      "m_lv                        0\n",
      "m_jlv                       0\n",
      "m_bb                        0\n",
      "m_wbb                       0\n",
      "m_wwbb                      0\n",
      "dtype: int64\n",
      "na values in Test \n",
      " class                       0\n",
      "lepton_pT                   0\n",
      "lepton_eta                  0\n",
      "lepton_phi                  0\n",
      "missing_energy_magnitude    0\n",
      "missing_energy_phi          0\n",
      "jet1pt                      0\n",
      "jet1eta                     0\n",
      "jet1phi                     0\n",
      "jet1b.tag                   0\n",
      "jet2pt                      0\n",
      "jet2eta                     0\n",
      "jet2phi                     0\n",
      "jet2b.tag                   0\n",
      "jet3pt                      0\n",
      "jet3eta                     0\n",
      "jet3phi                     0\n",
      "jet3b.tag                   0\n",
      "jet4pt                      0\n",
      "jet4eta                     0\n",
      "jet4phi                     1\n",
      "jet4b.tag                   1\n",
      "m_jj                        1\n",
      "m_jjj                       1\n",
      "m_lv                        1\n",
      "m_jlv                       1\n",
      "m_bb                        1\n",
      "m_wbb                       1\n",
      "m_wwbb                      1\n",
      "dtype: int64\n"
     ]
    }
   ],
   "source": [
    "#checking null/na values\n",
    "print(\"na values in Train \\n\", hb_data.isna().sum() )\n",
    "print(\"na values in Test \\n\", hb_data_test.isna().sum() )\n"
   ]
  },
  {
   "cell_type": "code",
   "execution_count": 269,
   "metadata": {
    "scrolled": true
   },
   "outputs": [],
   "source": [
    "#dropping na from test as they exists in only one row\n",
    "hb_data_test.dropna(inplace=True)\n"
   ]
  },
  {
   "cell_type": "code",
   "execution_count": 270,
   "metadata": {},
   "outputs": [
    {
     "data": {
      "text/plain": [
       "(29413, 29)"
      ]
     },
     "execution_count": 270,
     "metadata": {},
     "output_type": "execute_result"
    }
   ],
   "source": [
    "hb_data_test.shape"
   ]
  },
  {
   "cell_type": "code",
   "execution_count": 271,
   "metadata": {
    "scrolled": false
   },
   "outputs": [
    {
     "name": "stdout",
     "output_type": "stream",
     "text": [
      "na values in Train \n",
      " class                       0\n",
      "lepton_pT                   0\n",
      "lepton_eta                  0\n",
      "lepton_phi                  0\n",
      "missing_energy_magnitude    0\n",
      "missing_energy_phi          0\n",
      "jet1pt                      0\n",
      "jet1eta                     0\n",
      "jet1phi                     0\n",
      "jet1b.tag                   0\n",
      "jet2pt                      0\n",
      "jet2eta                     0\n",
      "jet2phi                     0\n",
      "jet2b.tag                   0\n",
      "jet3pt                      0\n",
      "jet3eta                     0\n",
      "jet3phi                     0\n",
      "jet3b.tag                   0\n",
      "jet4pt                      0\n",
      "jet4eta                     0\n",
      "jet4phi                     0\n",
      "jet4b.tag                   0\n",
      "m_jj                        0\n",
      "m_jjj                       0\n",
      "m_lv                        0\n",
      "m_jlv                       0\n",
      "m_bb                        0\n",
      "m_wbb                       0\n",
      "m_wwbb                      0\n",
      "dtype: int64\n",
      "na values in Test \n",
      " class                       0\n",
      "lepton_pT                   0\n",
      "lepton_eta                  0\n",
      "lepton_phi                  0\n",
      "missing_energy_magnitude    0\n",
      "missing_energy_phi          0\n",
      "jet1pt                      0\n",
      "jet1eta                     0\n",
      "jet1phi                     0\n",
      "jet1b.tag                   0\n",
      "jet2pt                      0\n",
      "jet2eta                     0\n",
      "jet2phi                     0\n",
      "jet2b.tag                   0\n",
      "jet3pt                      0\n",
      "jet3eta                     0\n",
      "jet3phi                     0\n",
      "jet3b.tag                   0\n",
      "jet4pt                      0\n",
      "jet4eta                     0\n",
      "jet4phi                     0\n",
      "jet4b.tag                   0\n",
      "m_jj                        0\n",
      "m_jjj                       0\n",
      "m_lv                        0\n",
      "m_jlv                       0\n",
      "m_bb                        0\n",
      "m_wbb                       0\n",
      "m_wwbb                      0\n",
      "dtype: int64\n"
     ]
    }
   ],
   "source": [
    "print(\"na values in Train \\n\", hb_data.isna().sum() )\n",
    "print(\"na values in Test \\n\", hb_data_test.isna().sum() )"
   ]
  },
  {
   "cell_type": "code",
   "execution_count": 272,
   "metadata": {},
   "outputs": [
    {
     "data": {
      "text/html": [
       "<div>\n",
       "<style scoped>\n",
       "    .dataframe tbody tr th:only-of-type {\n",
       "        vertical-align: middle;\n",
       "    }\n",
       "\n",
       "    .dataframe tbody tr th {\n",
       "        vertical-align: top;\n",
       "    }\n",
       "\n",
       "    .dataframe thead th {\n",
       "        text-align: right;\n",
       "    }\n",
       "</style>\n",
       "<table border=\"1\" class=\"dataframe\">\n",
       "  <thead>\n",
       "    <tr style=\"text-align: right;\">\n",
       "      <th></th>\n",
       "      <th>lepton_pT</th>\n",
       "      <th>lepton_eta</th>\n",
       "      <th>lepton_phi</th>\n",
       "      <th>missing_energy_magnitude</th>\n",
       "      <th>missing_energy_phi</th>\n",
       "      <th>jet1pt</th>\n",
       "      <th>jet1eta</th>\n",
       "      <th>jet1phi</th>\n",
       "      <th>jet1b.tag</th>\n",
       "      <th>jet2pt</th>\n",
       "      <th>...</th>\n",
       "      <th>jet4eta</th>\n",
       "      <th>jet4phi</th>\n",
       "      <th>jet4b.tag</th>\n",
       "      <th>m_jj</th>\n",
       "      <th>m_jjj</th>\n",
       "      <th>m_lv</th>\n",
       "      <th>m_jlv</th>\n",
       "      <th>m_bb</th>\n",
       "      <th>m_wbb</th>\n",
       "      <th>m_wwbb</th>\n",
       "    </tr>\n",
       "  </thead>\n",
       "  <tbody>\n",
       "    <tr>\n",
       "      <th>count</th>\n",
       "      <td>68636.000000</td>\n",
       "      <td>68636.000000</td>\n",
       "      <td>68636.000000</td>\n",
       "      <td>68636.000000</td>\n",
       "      <td>68636.000000</td>\n",
       "      <td>68636.000000</td>\n",
       "      <td>68636.000000</td>\n",
       "      <td>68636.000000</td>\n",
       "      <td>68636.000000</td>\n",
       "      <td>68636.000000</td>\n",
       "      <td>...</td>\n",
       "      <td>68636.000000</td>\n",
       "      <td>68636.000000</td>\n",
       "      <td>68636.000000</td>\n",
       "      <td>68636.000000</td>\n",
       "      <td>68636.000000</td>\n",
       "      <td>68636.000000</td>\n",
       "      <td>68636.000000</td>\n",
       "      <td>68636.000000</td>\n",
       "      <td>68636.000000</td>\n",
       "      <td>68636.000000</td>\n",
       "    </tr>\n",
       "    <tr>\n",
       "      <th>mean</th>\n",
       "      <td>0.989390</td>\n",
       "      <td>-0.004752</td>\n",
       "      <td>-0.000865</td>\n",
       "      <td>0.998634</td>\n",
       "      <td>-0.004615</td>\n",
       "      <td>0.988293</td>\n",
       "      <td>-0.004521</td>\n",
       "      <td>0.001059</td>\n",
       "      <td>0.997492</td>\n",
       "      <td>0.991622</td>\n",
       "      <td>...</td>\n",
       "      <td>-0.005873</td>\n",
       "      <td>-0.001390</td>\n",
       "      <td>0.989418</td>\n",
       "      <td>1.031975</td>\n",
       "      <td>1.022349</td>\n",
       "      <td>1.050091</td>\n",
       "      <td>1.010198</td>\n",
       "      <td>0.972071</td>\n",
       "      <td>1.031742</td>\n",
       "      <td>0.959118</td>\n",
       "    </tr>\n",
       "    <tr>\n",
       "      <th>std</th>\n",
       "      <td>0.562599</td>\n",
       "      <td>1.005846</td>\n",
       "      <td>1.006407</td>\n",
       "      <td>0.597851</td>\n",
       "      <td>1.006065</td>\n",
       "      <td>0.473853</td>\n",
       "      <td>1.010098</td>\n",
       "      <td>1.007629</td>\n",
       "      <td>1.026956</td>\n",
       "      <td>0.498138</td>\n",
       "      <td>...</td>\n",
       "      <td>1.009085</td>\n",
       "      <td>1.007525</td>\n",
       "      <td>1.395692</td>\n",
       "      <td>0.648727</td>\n",
       "      <td>0.369765</td>\n",
       "      <td>0.166135</td>\n",
       "      <td>0.399576</td>\n",
       "      <td>0.521868</td>\n",
       "      <td>0.363594</td>\n",
       "      <td>0.313324</td>\n",
       "    </tr>\n",
       "    <tr>\n",
       "      <th>min</th>\n",
       "      <td>0.274697</td>\n",
       "      <td>-2.434976</td>\n",
       "      <td>-1.742508</td>\n",
       "      <td>0.001283</td>\n",
       "      <td>-1.743944</td>\n",
       "      <td>0.140434</td>\n",
       "      <td>-2.968735</td>\n",
       "      <td>-1.741237</td>\n",
       "      <td>0.000000</td>\n",
       "      <td>0.189737</td>\n",
       "      <td>...</td>\n",
       "      <td>-2.497265</td>\n",
       "      <td>-1.742691</td>\n",
       "      <td>0.000000</td>\n",
       "      <td>0.110875</td>\n",
       "      <td>0.310499</td>\n",
       "      <td>0.133012</td>\n",
       "      <td>0.295983</td>\n",
       "      <td>0.048125</td>\n",
       "      <td>0.362572</td>\n",
       "      <td>0.403166</td>\n",
       "    </tr>\n",
       "    <tr>\n",
       "      <th>25%</th>\n",
       "      <td>0.590204</td>\n",
       "      <td>-0.744166</td>\n",
       "      <td>-0.869156</td>\n",
       "      <td>0.578363</td>\n",
       "      <td>-0.877512</td>\n",
       "      <td>0.676977</td>\n",
       "      <td>-0.696157</td>\n",
       "      <td>-0.864770</td>\n",
       "      <td>0.000000</td>\n",
       "      <td>0.656964</td>\n",
       "      <td>...</td>\n",
       "      <td>-0.721686</td>\n",
       "      <td>-0.874392</td>\n",
       "      <td>0.000000</td>\n",
       "      <td>0.791868</td>\n",
       "      <td>0.846218</td>\n",
       "      <td>0.985762</td>\n",
       "      <td>0.766271</td>\n",
       "      <td>0.671995</td>\n",
       "      <td>0.819659</td>\n",
       "      <td>0.770090</td>\n",
       "    </tr>\n",
       "    <tr>\n",
       "      <th>50%</th>\n",
       "      <td>0.853738</td>\n",
       "      <td>-0.003950</td>\n",
       "      <td>0.003191</td>\n",
       "      <td>0.892574</td>\n",
       "      <td>-0.008968</td>\n",
       "      <td>0.892804</td>\n",
       "      <td>-0.002006</td>\n",
       "      <td>-0.006040</td>\n",
       "      <td>1.086538</td>\n",
       "      <td>0.889382</td>\n",
       "      <td>...</td>\n",
       "      <td>-0.007956</td>\n",
       "      <td>-0.004703</td>\n",
       "      <td>0.000000</td>\n",
       "      <td>0.896056</td>\n",
       "      <td>0.950510</td>\n",
       "      <td>0.989726</td>\n",
       "      <td>0.916662</td>\n",
       "      <td>0.873269</td>\n",
       "      <td>0.947334</td>\n",
       "      <td>0.871402</td>\n",
       "    </tr>\n",
       "    <tr>\n",
       "      <th>75%</th>\n",
       "      <td>1.234030</td>\n",
       "      <td>0.734318</td>\n",
       "      <td>0.869884</td>\n",
       "      <td>1.294878</td>\n",
       "      <td>0.867539</td>\n",
       "      <td>1.167717</td>\n",
       "      <td>0.689175</td>\n",
       "      <td>0.873302</td>\n",
       "      <td>2.173076</td>\n",
       "      <td>1.200490</td>\n",
       "      <td>...</td>\n",
       "      <td>0.709938</td>\n",
       "      <td>0.874380</td>\n",
       "      <td>3.101961</td>\n",
       "      <td>1.026683</td>\n",
       "      <td>1.083862</td>\n",
       "      <td>1.020199</td>\n",
       "      <td>1.141150</td>\n",
       "      <td>1.138059</td>\n",
       "      <td>1.138514</td>\n",
       "      <td>1.056399</td>\n",
       "    </tr>\n",
       "    <tr>\n",
       "      <th>max</th>\n",
       "      <td>7.805887</td>\n",
       "      <td>2.433894</td>\n",
       "      <td>1.743236</td>\n",
       "      <td>7.998711</td>\n",
       "      <td>1.743229</td>\n",
       "      <td>6.534160</td>\n",
       "      <td>2.964723</td>\n",
       "      <td>1.741454</td>\n",
       "      <td>2.173076</td>\n",
       "      <td>6.498635</td>\n",
       "      <td>...</td>\n",
       "      <td>2.498009</td>\n",
       "      <td>1.743372</td>\n",
       "      <td>3.101961</td>\n",
       "      <td>16.131908</td>\n",
       "      <td>8.940148</td>\n",
       "      <td>4.565248</td>\n",
       "      <td>7.442589</td>\n",
       "      <td>8.407887</td>\n",
       "      <td>7.318191</td>\n",
       "      <td>6.015647</td>\n",
       "    </tr>\n",
       "  </tbody>\n",
       "</table>\n",
       "<p>8 rows × 28 columns</p>\n",
       "</div>"
      ],
      "text/plain": [
       "          lepton_pT    lepton_eta    lepton_phi  missing_energy_magnitude  \\\n",
       "count  68636.000000  68636.000000  68636.000000              68636.000000   \n",
       "mean       0.989390     -0.004752     -0.000865                  0.998634   \n",
       "std        0.562599      1.005846      1.006407                  0.597851   \n",
       "min        0.274697     -2.434976     -1.742508                  0.001283   \n",
       "25%        0.590204     -0.744166     -0.869156                  0.578363   \n",
       "50%        0.853738     -0.003950      0.003191                  0.892574   \n",
       "75%        1.234030      0.734318      0.869884                  1.294878   \n",
       "max        7.805887      2.433894      1.743236                  7.998711   \n",
       "\n",
       "       missing_energy_phi        jet1pt       jet1eta       jet1phi  \\\n",
       "count        68636.000000  68636.000000  68636.000000  68636.000000   \n",
       "mean            -0.004615      0.988293     -0.004521      0.001059   \n",
       "std              1.006065      0.473853      1.010098      1.007629   \n",
       "min             -1.743944      0.140434     -2.968735     -1.741237   \n",
       "25%             -0.877512      0.676977     -0.696157     -0.864770   \n",
       "50%             -0.008968      0.892804     -0.002006     -0.006040   \n",
       "75%              0.867539      1.167717      0.689175      0.873302   \n",
       "max              1.743229      6.534160      2.964723      1.741454   \n",
       "\n",
       "          jet1b.tag        jet2pt      ...            jet4eta       jet4phi  \\\n",
       "count  68636.000000  68636.000000      ...       68636.000000  68636.000000   \n",
       "mean       0.997492      0.991622      ...          -0.005873     -0.001390   \n",
       "std        1.026956      0.498138      ...           1.009085      1.007525   \n",
       "min        0.000000      0.189737      ...          -2.497265     -1.742691   \n",
       "25%        0.000000      0.656964      ...          -0.721686     -0.874392   \n",
       "50%        1.086538      0.889382      ...          -0.007956     -0.004703   \n",
       "75%        2.173076      1.200490      ...           0.709938      0.874380   \n",
       "max        2.173076      6.498635      ...           2.498009      1.743372   \n",
       "\n",
       "          jet4b.tag          m_jj         m_jjj          m_lv         m_jlv  \\\n",
       "count  68636.000000  68636.000000  68636.000000  68636.000000  68636.000000   \n",
       "mean       0.989418      1.031975      1.022349      1.050091      1.010198   \n",
       "std        1.395692      0.648727      0.369765      0.166135      0.399576   \n",
       "min        0.000000      0.110875      0.310499      0.133012      0.295983   \n",
       "25%        0.000000      0.791868      0.846218      0.985762      0.766271   \n",
       "50%        0.000000      0.896056      0.950510      0.989726      0.916662   \n",
       "75%        3.101961      1.026683      1.083862      1.020199      1.141150   \n",
       "max        3.101961     16.131908      8.940148      4.565248      7.442589   \n",
       "\n",
       "               m_bb         m_wbb        m_wwbb  \n",
       "count  68636.000000  68636.000000  68636.000000  \n",
       "mean       0.972071      1.031742      0.959118  \n",
       "std        0.521868      0.363594      0.313324  \n",
       "min        0.048125      0.362572      0.403166  \n",
       "25%        0.671995      0.819659      0.770090  \n",
       "50%        0.873269      0.947334      0.871402  \n",
       "75%        1.138059      1.138514      1.056399  \n",
       "max        8.407887      7.318191      6.015647  \n",
       "\n",
       "[8 rows x 28 columns]"
      ]
     },
     "execution_count": 272,
     "metadata": {},
     "output_type": "execute_result"
    }
   ],
   "source": [
    "hb_data.describe()"
   ]
  },
  {
   "cell_type": "code",
   "execution_count": 273,
   "metadata": {},
   "outputs": [
    {
     "data": {
      "image/png": "[encoded data removed]",
      "text/plain": [
       "<Figure size 720x720 with 2 Axes>"
      ]
     },
     "metadata": {},
     "output_type": "display_data"
    }
   ],
   "source": [
    "#Visualization\n",
    "#heatmap for multicollinearity check\n",
    "float_columns= hb_data.select_dtypes(include='float64').columns\n",
    "cor=hb_data[float_columns].corr()\n",
    "plt.figure(figsize = (10,10))\n",
    "sns.heatmap(cor)\n",
    "plt.show()"
   ]
  },
  {
   "cell_type": "code",
   "execution_count": 274,
   "metadata": {},
   "outputs": [],
   "source": [
    "#by checking multi collinearity dropping high collinearity variables\n",
    "#m_jjj and m_wwbb are causing high multicollinearity\n",
    "#collinear_columns= ['m_jjj', 'm_wwbb','m_jlv', 'm_bb']\n",
    "#hb_data= hb_data.drop(collinear_columns, axis=1)\n",
    "#hb_data_test = hb_data_test.drop(collinear_columns, axis=1)"
   ]
  },
  {
   "cell_type": "code",
   "execution_count": 275,
   "metadata": {},
   "outputs": [
    {
     "data": {
      "text/plain": [
       "0.000000    33700\n",
       "2.173076    22387\n",
       "2.173076     5688\n",
       "1.086538     5413\n",
       "1.086538     1448\n",
       "Name: jet1b.tag, dtype: int64"
      ]
     },
     "execution_count": 275,
     "metadata": {},
     "output_type": "execute_result"
    }
   ],
   "source": [
    "hb_data[\"jet1b.tag\"].value_counts()"
   ]
  },
  {
   "cell_type": "code",
   "execution_count": 276,
   "metadata": {
    "scrolled": true
   },
   "outputs": [
    {
     "data": {
      "text/plain": [
       "0.000000    34289\n",
       "2.214872    22294\n",
       "2.214872     5660\n",
       "1.107436     5135\n",
       "1.107436     1258\n",
       "Name: jet2b.tag, dtype: int64"
      ]
     },
     "execution_count": 276,
     "metadata": {},
     "output_type": "execute_result"
    }
   ],
   "source": [
    "hb_data[\"jet2b.tag\"].value_counts()"
   ]
  },
  {
   "cell_type": "code",
   "execution_count": 277,
   "metadata": {
    "scrolled": true
   },
   "outputs": [
    {
     "data": {
      "text/plain": [
       "0.000000    39089\n",
       "2.548224    19626\n",
       "2.548224     4906\n",
       "1.274112     3952\n",
       "1.274112     1063\n",
       "Name: jet3b.tag, dtype: int64"
      ]
     },
     "execution_count": 277,
     "metadata": {},
     "output_type": "execute_result"
    }
   ],
   "source": [
    "hb_data[\"jet3b.tag\"].value_counts()"
   ]
  },
  {
   "cell_type": "code",
   "execution_count": 278,
   "metadata": {
    "scrolled": true
   },
   "outputs": [
    {
     "data": {
      "text/plain": [
       "0.000000    44714\n",
       "3.101961    15800\n",
       "3.101961     4063\n",
       "1.550981     3179\n",
       "1.550981      880\n",
       "Name: jet4b.tag, dtype: int64"
      ]
     },
     "execution_count": 278,
     "metadata": {},
     "output_type": "execute_result"
    }
   ],
   "source": [
    "hb_data[\"jet4b.tag\"].value_counts()"
   ]
  },
  {
   "cell_type": "code",
   "execution_count": 279,
   "metadata": {},
   "outputs": [
    {
     "data": {
      "text/plain": [
       "0.000000    19044\n",
       "3.101961     8605\n",
       "1.550981     1764\n",
       "Name: jet4b.tag, dtype: int64"
      ]
     },
     "execution_count": 279,
     "metadata": {},
     "output_type": "execute_result"
    }
   ],
   "source": [
    "hb_data_test[\"jet4b.tag\"].value_counts()"
   ]
  },
  {
   "cell_type": "code",
   "execution_count": 280,
   "metadata": {},
   "outputs": [
    {
     "data": {
      "image/png": "[encoded data removed]",
      "text/plain": [
       "<Figure size 504x360 with 1 Axes>"
      ]
     },
     "metadata": {},
     "output_type": "display_data"
    }
   ],
   "source": [
    "plt.figure(figsize = (7,5))\n",
    "\n",
    "plt.scatter(x = hb_data['jet1b.tag'],y = hb_data.jet1pt)\n",
    "#plt.title('Years at company and Age')\n",
    "#plt.xlabel('YearsAtCompany')\n",
    "#plt.ylabel('Age')\n",
    "plt.show()"
   ]
  },
  {
   "cell_type": "code",
   "execution_count": 281,
   "metadata": {},
   "outputs": [
    {
     "data": {
      "image/png": "[encoded data removed]",
      "text/plain": [
       "<Figure size 504x360 with 1 Axes>"
      ]
     },
     "metadata": {},
     "output_type": "display_data"
    }
   ],
   "source": [
    "plt.figure(figsize = (7,5))\n",
    "\n",
    "plt.scatter(x = hb_data['jet1b.tag'],y = hb_data.jet1eta)\n",
    "#plt.title('Years at company and Age')\n",
    "#plt.xlabel('YearsAtCompany')\n",
    "#plt.ylabel('Age')\n",
    "plt.show()"
   ]
  },
  {
   "cell_type": "code",
   "execution_count": 282,
   "metadata": {},
   "outputs": [
    {
     "data": {
      "image/png": "[encoded data removed]",
      "text/plain": [
       "<Figure size 504x360 with 1 Axes>"
      ]
     },
     "metadata": {},
     "output_type": "display_data"
    }
   ],
   "source": [
    "plt.figure(figsize = (7,5))\n",
    "\n",
    "plt.scatter(x = hb_data['jet1b.tag'],y = hb_data.jet1phi)\n",
    "#plt.title('Years at company and Age')\n",
    "#plt.xlabel('YearsAtCompany')\n",
    "#plt.ylabel('Age')\n",
    "plt.show()"
   ]
  },
  {
   "cell_type": "code",
   "execution_count": 283,
   "metadata": {},
   "outputs": [],
   "source": [
    "#sns.pairplot(hb_data)"
   ]
  },
  {
   "cell_type": "code",
   "execution_count": 302,
   "metadata": {},
   "outputs": [],
   "source": [
    "#dropping tag variables\n",
    "tag_cols= ['jet1b.tag','jet2b.tag','jet3b.tag', 'jet4b.tag']\n",
    "hb_data= hb_data.drop(tag_cols,1)\n",
    "hb_data_test= hb_data_test.drop(tag_cols,1)"
   ]
  },
  {
   "cell_type": "code",
   "execution_count": 303,
   "metadata": {},
   "outputs": [
    {
     "ename": "KeyError",
     "evalue": "'class'",
     "output_type": "error",
     "traceback": [
      "\u001b[1;31m---------------------------------------------------------------------------\u001b[0m",
      "\u001b[1;31mKeyError\u001b[0m                                  Traceback (most recent call last)",
      "\u001b[1;32mC:\\ProgramData\\Anaconda3\\lib\\site-packages\\pandas\\core\\indexes\\base.py\u001b[0m in \u001b[0;36mget_loc\u001b[1;34m(self, key, method, tolerance)\u001b[0m\n\u001b[0;32m   3062\u001b[0m             \u001b[1;32mtry\u001b[0m\u001b[1;33m:\u001b[0m\u001b[1;33m\u001b[0m\u001b[0m\n\u001b[1;32m-> 3063\u001b[1;33m                 \u001b[1;32mreturn\u001b[0m \u001b[0mself\u001b[0m\u001b[1;33m.\u001b[0m\u001b[0m_engine\u001b[0m\u001b[1;33m.\u001b[0m\u001b[0mget_loc\u001b[0m\u001b[1;33m(\u001b[0m\u001b[0mkey\u001b[0m\u001b[1;33m)\u001b[0m\u001b[1;33m\u001b[0m\u001b[0m\n\u001b[0m\u001b[0;32m   3064\u001b[0m             \u001b[1;32mexcept\u001b[0m \u001b[0mKeyError\u001b[0m\u001b[1;33m:\u001b[0m\u001b[1;33m\u001b[0m\u001b[0m\n",
      "\u001b[1;32mpandas\\_libs\\index.pyx\u001b[0m in \u001b[0;36mpandas._libs.index.IndexEngine.get_loc\u001b[1;34m()\u001b[0m\n",
      "\u001b[1;32mpandas\\_libs\\index.pyx\u001b[0m in \u001b[0;36mpandas._libs.index.IndexEngine.get_loc\u001b[1;34m()\u001b[0m\n",
      "\u001b[1;32mpandas\\_libs\\hashtable_class_helper.pxi\u001b[0m in \u001b[0;36mpandas._libs.hashtable.PyObjectHashTable.get_item\u001b[1;34m()\u001b[0m\n",
      "\u001b[1;32mpandas\\_libs\\hashtable_class_helper.pxi\u001b[0m in \u001b[0;36mpandas._libs.hashtable.PyObjectHashTable.get_item\u001b[1;34m()\u001b[0m\n",
      "\u001b[1;31mKeyError\u001b[0m: 'class'",
      "\nDuring handling of the above exception, another exception occurred:\n",
      "\u001b[1;31mKeyError\u001b[0m                                  Traceback (most recent call last)",
      "\u001b[1;32m<ipython-input-303-990393f1f906>\u001b[0m in \u001b[0;36m<module>\u001b[1;34m()\u001b[0m\n\u001b[1;32m----> 1\u001b[1;33m \u001b[0mtrain_target\u001b[0m\u001b[1;33m=\u001b[0m\u001b[0mhb_data\u001b[0m\u001b[1;33m[\u001b[0m\u001b[1;34m'class'\u001b[0m\u001b[1;33m]\u001b[0m\u001b[1;33m.\u001b[0m\u001b[0mcopy\u001b[0m\u001b[1;33m(\u001b[0m\u001b[1;33m)\u001b[0m\u001b[1;33m\u001b[0m\u001b[0m\n\u001b[0m\u001b[0;32m      2\u001b[0m \u001b[0mtest_target\u001b[0m\u001b[1;33m=\u001b[0m\u001b[0mhb_data_test\u001b[0m\u001b[1;33m[\u001b[0m\u001b[1;34m'class'\u001b[0m\u001b[1;33m]\u001b[0m\u001b[1;33m.\u001b[0m\u001b[0mcopy\u001b[0m\u001b[1;33m(\u001b[0m\u001b[1;33m)\u001b[0m\u001b[1;33m\u001b[0m\u001b[0m\n\u001b[0;32m      3\u001b[0m \u001b[0mhb_data\u001b[0m\u001b[1;33m=\u001b[0m \u001b[0mhb_data\u001b[0m\u001b[1;33m.\u001b[0m\u001b[0mdrop\u001b[0m\u001b[1;33m(\u001b[0m\u001b[1;34m'class'\u001b[0m\u001b[1;33m,\u001b[0m \u001b[0maxis\u001b[0m\u001b[1;33m=\u001b[0m\u001b[1;36m1\u001b[0m\u001b[1;33m)\u001b[0m\u001b[1;33m\u001b[0m\u001b[0m\n\u001b[0;32m      4\u001b[0m \u001b[0mhb_data_test\u001b[0m\u001b[1;33m=\u001b[0m \u001b[0mhb_data_test\u001b[0m\u001b[1;33m.\u001b[0m\u001b[0mdrop\u001b[0m\u001b[1;33m(\u001b[0m\u001b[1;34m'class'\u001b[0m\u001b[1;33m,\u001b[0m \u001b[0maxis\u001b[0m\u001b[1;33m=\u001b[0m\u001b[1;36m1\u001b[0m\u001b[1;33m)\u001b[0m\u001b[1;33m\u001b[0m\u001b[0m\n",
      "\u001b[1;32mC:\\ProgramData\\Anaconda3\\lib\\site-packages\\pandas\\core\\frame.py\u001b[0m in \u001b[0;36m__getitem__\u001b[1;34m(self, key)\u001b[0m\n\u001b[0;32m   2683\u001b[0m             \u001b[1;32mreturn\u001b[0m \u001b[0mself\u001b[0m\u001b[1;33m.\u001b[0m\u001b[0m_getitem_multilevel\u001b[0m\u001b[1;33m(\u001b[0m\u001b[0mkey\u001b[0m\u001b[1;33m)\u001b[0m\u001b[1;33m\u001b[0m\u001b[0m\n\u001b[0;32m   2684\u001b[0m         \u001b[1;32melse\u001b[0m\u001b[1;33m:\u001b[0m\u001b[1;33m\u001b[0m\u001b[0m\n\u001b[1;32m-> 2685\u001b[1;33m             \u001b[1;32mreturn\u001b[0m \u001b[0mself\u001b[0m\u001b[1;33m.\u001b[0m\u001b[0m_getitem_column\u001b[0m\u001b[1;33m(\u001b[0m\u001b[0mkey\u001b[0m\u001b[1;33m)\u001b[0m\u001b[1;33m\u001b[0m\u001b[0m\n\u001b[0m\u001b[0;32m   2686\u001b[0m \u001b[1;33m\u001b[0m\u001b[0m\n\u001b[0;32m   2687\u001b[0m     \u001b[1;32mdef\u001b[0m \u001b[0m_getitem_column\u001b[0m\u001b[1;33m(\u001b[0m\u001b[0mself\u001b[0m\u001b[1;33m,\u001b[0m \u001b[0mkey\u001b[0m\u001b[1;33m)\u001b[0m\u001b[1;33m:\u001b[0m\u001b[1;33m\u001b[0m\u001b[0m\n",
      "\u001b[1;32mC:\\ProgramData\\Anaconda3\\lib\\site-packages\\pandas\\core\\frame.py\u001b[0m in \u001b[0;36m_getitem_column\u001b[1;34m(self, key)\u001b[0m\n\u001b[0;32m   2690\u001b[0m         \u001b[1;31m# get column\u001b[0m\u001b[1;33m\u001b[0m\u001b[1;33m\u001b[0m\u001b[0m\n\u001b[0;32m   2691\u001b[0m         \u001b[1;32mif\u001b[0m \u001b[0mself\u001b[0m\u001b[1;33m.\u001b[0m\u001b[0mcolumns\u001b[0m\u001b[1;33m.\u001b[0m\u001b[0mis_unique\u001b[0m\u001b[1;33m:\u001b[0m\u001b[1;33m\u001b[0m\u001b[0m\n\u001b[1;32m-> 2692\u001b[1;33m             \u001b[1;32mreturn\u001b[0m \u001b[0mself\u001b[0m\u001b[1;33m.\u001b[0m\u001b[0m_get_item_cache\u001b[0m\u001b[1;33m(\u001b[0m\u001b[0mkey\u001b[0m\u001b[1;33m)\u001b[0m\u001b[1;33m\u001b[0m\u001b[0m\n\u001b[0m\u001b[0;32m   2693\u001b[0m \u001b[1;33m\u001b[0m\u001b[0m\n\u001b[0;32m   2694\u001b[0m         \u001b[1;31m# duplicate columns & possible reduce dimensionality\u001b[0m\u001b[1;33m\u001b[0m\u001b[1;33m\u001b[0m\u001b[0m\n",
      "\u001b[1;32mC:\\ProgramData\\Anaconda3\\lib\\site-packages\\pandas\\core\\generic.py\u001b[0m in \u001b[0;36m_get_item_cache\u001b[1;34m(self, item)\u001b[0m\n\u001b[0;32m   2484\u001b[0m         \u001b[0mres\u001b[0m \u001b[1;33m=\u001b[0m \u001b[0mcache\u001b[0m\u001b[1;33m.\u001b[0m\u001b[0mget\u001b[0m\u001b[1;33m(\u001b[0m\u001b[0mitem\u001b[0m\u001b[1;33m)\u001b[0m\u001b[1;33m\u001b[0m\u001b[0m\n\u001b[0;32m   2485\u001b[0m         \u001b[1;32mif\u001b[0m \u001b[0mres\u001b[0m \u001b[1;32mis\u001b[0m \u001b[1;32mNone\u001b[0m\u001b[1;33m:\u001b[0m\u001b[1;33m\u001b[0m\u001b[0m\n\u001b[1;32m-> 2486\u001b[1;33m             \u001b[0mvalues\u001b[0m \u001b[1;33m=\u001b[0m \u001b[0mself\u001b[0m\u001b[1;33m.\u001b[0m\u001b[0m_data\u001b[0m\u001b[1;33m.\u001b[0m\u001b[0mget\u001b[0m\u001b[1;33m(\u001b[0m\u001b[0mitem\u001b[0m\u001b[1;33m)\u001b[0m\u001b[1;33m\u001b[0m\u001b[0m\n\u001b[0m\u001b[0;32m   2487\u001b[0m             \u001b[0mres\u001b[0m \u001b[1;33m=\u001b[0m \u001b[0mself\u001b[0m\u001b[1;33m.\u001b[0m\u001b[0m_box_item_values\u001b[0m\u001b[1;33m(\u001b[0m\u001b[0mitem\u001b[0m\u001b[1;33m,\u001b[0m \u001b[0mvalues\u001b[0m\u001b[1;33m)\u001b[0m\u001b[1;33m\u001b[0m\u001b[0m\n\u001b[0;32m   2488\u001b[0m             \u001b[0mcache\u001b[0m\u001b[1;33m[\u001b[0m\u001b[0mitem\u001b[0m\u001b[1;33m]\u001b[0m \u001b[1;33m=\u001b[0m \u001b[0mres\u001b[0m\u001b[1;33m\u001b[0m\u001b[0m\n",
      "\u001b[1;32mC:\\ProgramData\\Anaconda3\\lib\\site-packages\\pandas\\core\\internals.py\u001b[0m in \u001b[0;36mget\u001b[1;34m(self, item, fastpath)\u001b[0m\n\u001b[0;32m   4113\u001b[0m \u001b[1;33m\u001b[0m\u001b[0m\n\u001b[0;32m   4114\u001b[0m             \u001b[1;32mif\u001b[0m \u001b[1;32mnot\u001b[0m \u001b[0misna\u001b[0m\u001b[1;33m(\u001b[0m\u001b[0mitem\u001b[0m\u001b[1;33m)\u001b[0m\u001b[1;33m:\u001b[0m\u001b[1;33m\u001b[0m\u001b[0m\n\u001b[1;32m-> 4115\u001b[1;33m                 \u001b[0mloc\u001b[0m \u001b[1;33m=\u001b[0m \u001b[0mself\u001b[0m\u001b[1;33m.\u001b[0m\u001b[0mitems\u001b[0m\u001b[1;33m.\u001b[0m\u001b[0mget_loc\u001b[0m\u001b[1;33m(\u001b[0m\u001b[0mitem\u001b[0m\u001b[1;33m)\u001b[0m\u001b[1;33m\u001b[0m\u001b[0m\n\u001b[0m\u001b[0;32m   4116\u001b[0m             \u001b[1;32melse\u001b[0m\u001b[1;33m:\u001b[0m\u001b[1;33m\u001b[0m\u001b[0m\n\u001b[0;32m   4117\u001b[0m                 \u001b[0mindexer\u001b[0m \u001b[1;33m=\u001b[0m \u001b[0mnp\u001b[0m\u001b[1;33m.\u001b[0m\u001b[0marange\u001b[0m\u001b[1;33m(\u001b[0m\u001b[0mlen\u001b[0m\u001b[1;33m(\u001b[0m\u001b[0mself\u001b[0m\u001b[1;33m.\u001b[0m\u001b[0mitems\u001b[0m\u001b[1;33m)\u001b[0m\u001b[1;33m)\u001b[0m\u001b[1;33m[\u001b[0m\u001b[0misna\u001b[0m\u001b[1;33m(\u001b[0m\u001b[0mself\u001b[0m\u001b[1;33m.\u001b[0m\u001b[0mitems\u001b[0m\u001b[1;33m)\u001b[0m\u001b[1;33m]\u001b[0m\u001b[1;33m\u001b[0m\u001b[0m\n",
      "\u001b[1;32mC:\\ProgramData\\Anaconda3\\lib\\site-packages\\pandas\\core\\indexes\\base.py\u001b[0m in \u001b[0;36mget_loc\u001b[1;34m(self, key, method, tolerance)\u001b[0m\n\u001b[0;32m   3063\u001b[0m                 \u001b[1;32mreturn\u001b[0m \u001b[0mself\u001b[0m\u001b[1;33m.\u001b[0m\u001b[0m_engine\u001b[0m\u001b[1;33m.\u001b[0m\u001b[0mget_loc\u001b[0m\u001b[1;33m(\u001b[0m\u001b[0mkey\u001b[0m\u001b[1;33m)\u001b[0m\u001b[1;33m\u001b[0m\u001b[0m\n\u001b[0;32m   3064\u001b[0m             \u001b[1;32mexcept\u001b[0m \u001b[0mKeyError\u001b[0m\u001b[1;33m:\u001b[0m\u001b[1;33m\u001b[0m\u001b[0m\n\u001b[1;32m-> 3065\u001b[1;33m                 \u001b[1;32mreturn\u001b[0m \u001b[0mself\u001b[0m\u001b[1;33m.\u001b[0m\u001b[0m_engine\u001b[0m\u001b[1;33m.\u001b[0m\u001b[0mget_loc\u001b[0m\u001b[1;33m(\u001b[0m\u001b[0mself\u001b[0m\u001b[1;33m.\u001b[0m\u001b[0m_maybe_cast_indexer\u001b[0m\u001b[1;33m(\u001b[0m\u001b[0mkey\u001b[0m\u001b[1;33m)\u001b[0m\u001b[1;33m)\u001b[0m\u001b[1;33m\u001b[0m\u001b[0m\n\u001b[0m\u001b[0;32m   3066\u001b[0m \u001b[1;33m\u001b[0m\u001b[0m\n\u001b[0;32m   3067\u001b[0m         \u001b[0mindexer\u001b[0m \u001b[1;33m=\u001b[0m \u001b[0mself\u001b[0m\u001b[1;33m.\u001b[0m\u001b[0mget_indexer\u001b[0m\u001b[1;33m(\u001b[0m\u001b[1;33m[\u001b[0m\u001b[0mkey\u001b[0m\u001b[1;33m]\u001b[0m\u001b[1;33m,\u001b[0m \u001b[0mmethod\u001b[0m\u001b[1;33m=\u001b[0m\u001b[0mmethod\u001b[0m\u001b[1;33m,\u001b[0m \u001b[0mtolerance\u001b[0m\u001b[1;33m=\u001b[0m\u001b[0mtolerance\u001b[0m\u001b[1;33m)\u001b[0m\u001b[1;33m\u001b[0m\u001b[0m\n",
      "\u001b[1;32mpandas\\_libs\\index.pyx\u001b[0m in \u001b[0;36mpandas._libs.index.IndexEngine.get_loc\u001b[1;34m()\u001b[0m\n",
      "\u001b[1;32mpandas\\_libs\\index.pyx\u001b[0m in \u001b[0;36mpandas._libs.index.IndexEngine.get_loc\u001b[1;34m()\u001b[0m\n",
      "\u001b[1;32mpandas\\_libs\\hashtable_class_helper.pxi\u001b[0m in \u001b[0;36mpandas._libs.hashtable.PyObjectHashTable.get_item\u001b[1;34m()\u001b[0m\n",
      "\u001b[1;32mpandas\\_libs\\hashtable_class_helper.pxi\u001b[0m in \u001b[0;36mpandas._libs.hashtable.PyObjectHashTable.get_item\u001b[1;34m()\u001b[0m\n",
      "\u001b[1;31mKeyError\u001b[0m: 'class'"
     ]
    }
   ],
   "source": [
    "train_target=hb_data['class'].copy()\n",
    "test_target=hb_data_test['class'].copy()\n",
    "hb_data= hb_data.drop('class', axis=1)\n",
    "hb_data_test= hb_data_test.drop('class', axis=1)"
   ]
  },
  {
   "cell_type": "code",
   "execution_count": 304,
   "metadata": {},
   "outputs": [],
   "source": [
    "hb_data3= hb_data.copy()\n",
    "hb_data_test3= hb_data_test.copy()"
   ]
  },
  {
   "cell_type": "code",
   "execution_count": null,
   "metadata": {},
   "outputs": [],
   "source": [
    "'''#label encoding\n",
    "lab_enc = preprocessing.LabelEncoder()\n",
    "tar = lab_enc.fit_transform(y_train)\n",
    "tar_val = lab_enc.fit_transform(y_val)'''"
   ]
  },
  {
   "cell_type": "code",
   "execution_count": 305,
   "metadata": {},
   "outputs": [],
   "source": [
    "#train test splitting\n",
    "X_train, X_val, y_train, y_val = train_test_split(hb_data3, train_target, test_size = 0.25, random_state = 42)"
   ]
  },
  {
   "cell_type": "code",
   "execution_count": 306,
   "metadata": {},
   "outputs": [
    {
     "name": "stderr",
     "output_type": "stream",
     "text": [
      "C:\\ProgramData\\Anaconda3\\lib\\site-packages\\ipykernel_launcher.py:5: SettingWithCopyWarning: \n",
      "A value is trying to be set on a copy of a slice from a DataFrame.\n",
      "Try using .loc[row_indexer,col_indexer] = value instead\n",
      "\n",
      "See the caveats in the documentation: http://pandas.pydata.org/pandas-docs/stable/indexing.html#indexing-view-versus-copy\n",
      "  \"\"\"\n",
      "C:\\ProgramData\\Anaconda3\\lib\\site-packages\\pandas\\core\\frame.py:3141: SettingWithCopyWarning: \n",
      "A value is trying to be set on a copy of a slice from a DataFrame\n",
      "\n",
      "See the caveats in the documentation: http://pandas.pydata.org/pandas-docs/stable/indexing.html#indexing-view-versus-copy\n",
      "  self.loc._setitem_with_indexer((slice(None), indexer), value)\n",
      "C:\\ProgramData\\Anaconda3\\lib\\site-packages\\pandas\\core\\frame.py:3113: SettingWithCopyWarning: \n",
      "A value is trying to be set on a copy of a slice from a DataFrame\n",
      "\n",
      "See the caveats in the documentation: http://pandas.pydata.org/pandas-docs/stable/indexing.html#indexing-view-versus-copy\n",
      "  self._setitem_array(key, value)\n"
     ]
    }
   ],
   "source": [
    "#standardizing data\n",
    "float_columns= hb_data3.select_dtypes(include='float64').columns\n",
    "standardizer = StandardScaler()\n",
    "standardizer.fit(X_train[float_columns])\n",
    "X_train[float_columns] = standardizer.transform(X_train[float_columns])"
   ]
  },
  {
   "cell_type": "code",
   "execution_count": 307,
   "metadata": {},
   "outputs": [
    {
     "name": "stderr",
     "output_type": "stream",
     "text": [
      "C:\\ProgramData\\Anaconda3\\lib\\site-packages\\ipykernel_launcher.py:4: SettingWithCopyWarning: \n",
      "A value is trying to be set on a copy of a slice from a DataFrame.\n",
      "Try using .loc[row_indexer,col_indexer] = value instead\n",
      "\n",
      "See the caveats in the documentation: http://pandas.pydata.org/pandas-docs/stable/indexing.html#indexing-view-versus-copy\n",
      "  after removing the cwd from sys.path.\n",
      "C:\\ProgramData\\Anaconda3\\lib\\site-packages\\pandas\\core\\frame.py:3141: SettingWithCopyWarning: \n",
      "A value is trying to be set on a copy of a slice from a DataFrame\n",
      "\n",
      "See the caveats in the documentation: http://pandas.pydata.org/pandas-docs/stable/indexing.html#indexing-view-versus-copy\n",
      "  self.loc._setitem_with_indexer((slice(None), indexer), value)\n",
      "C:\\ProgramData\\Anaconda3\\lib\\site-packages\\pandas\\core\\frame.py:3113: SettingWithCopyWarning: \n",
      "A value is trying to be set on a copy of a slice from a DataFrame\n",
      "\n",
      "See the caveats in the documentation: http://pandas.pydata.org/pandas-docs/stable/indexing.html#indexing-view-versus-copy\n",
      "  self._setitem_array(key, value)\n"
     ]
    }
   ],
   "source": [
    "#standardizing data\n",
    "standardizer = StandardScaler()\n",
    "standardizer.fit(X_val[float_columns])\n",
    "X_val[float_columns] = standardizer.transform(X_val[float_columns])"
   ]
  },
  {
   "cell_type": "code",
   "execution_count": 308,
   "metadata": {},
   "outputs": [],
   "source": [
    "standardizer = StandardScaler()\n",
    "standardizer.fit(hb_data_test3[float_columns])\n",
    "hb_data_test3[float_columns] = standardizer.transform(hb_data_test3[float_columns])"
   ]
  },
  {
   "cell_type": "code",
   "execution_count": 309,
   "metadata": {},
   "outputs": [],
   "source": [
    "#Dummification\n",
    "X_train= pd.get_dummies(X_train )\n",
    "X_val= pd.get_dummies(X_val)\n",
    "hb_data_test3 = pd.get_dummies(hb_data_test3)"
   ]
  },
  {
   "cell_type": "code",
   "execution_count": 310,
   "metadata": {
    "scrolled": true
   },
   "outputs": [
    {
     "name": "stdout",
     "output_type": "stream",
     "text": [
      "Modified Train dimensions (51477, 24)\n",
      "Modified Validation dimensions (17159, 24)\n",
      "Modified Test dimensions (29413, 24)\n"
     ]
    }
   ],
   "source": [
    "print(\"Modified Train dimensions\",X_train.shape)\n",
    "print(\"Modified Validation dimensions\",X_val.shape)\n",
    "print(\"Modified Test dimensions\",hb_data_test3.shape)"
   ]
  },
  {
   "cell_type": "code",
   "execution_count": 311,
   "metadata": {},
   "outputs": [
    {
     "data": {
      "text/plain": [
       "lepton_pT                   float64\n",
       "lepton_eta                  float64\n",
       "lepton_phi                  float64\n",
       "missing_energy_magnitude    float64\n",
       "missing_energy_phi          float64\n",
       "jet1pt                      float64\n",
       "jet1eta                     float64\n",
       "jet1phi                     float64\n",
       "jet2pt                      float64\n",
       "jet2eta                     float64\n",
       "jet2phi                     float64\n",
       "jet3pt                      float64\n",
       "jet3eta                     float64\n",
       "jet3phi                     float64\n",
       "jet4pt                      float64\n",
       "jet4eta                     float64\n",
       "jet4phi                     float64\n",
       "m_jj                        float64\n",
       "m_jjj                       float64\n",
       "m_lv                        float64\n",
       "m_jlv                       float64\n",
       "m_bb                        float64\n",
       "m_wbb                       float64\n",
       "m_wwbb                      float64\n",
       "dtype: object"
      ]
     },
     "execution_count": 311,
     "metadata": {},
     "output_type": "execute_result"
    }
   ],
   "source": [
    "X_train.dtypes"
   ]
  },
  {
   "cell_type": "code",
   "execution_count": 312,
   "metadata": {},
   "outputs": [
    {
     "data": {
      "text/plain": [
       "lepton_pT                   float64\n",
       "lepton_eta                  float64\n",
       "lepton_phi                  float64\n",
       "missing_energy_magnitude    float64\n",
       "missing_energy_phi          float64\n",
       "jet1pt                      float64\n",
       "jet1eta                     float64\n",
       "jet1phi                     float64\n",
       "jet2pt                      float64\n",
       "jet2eta                     float64\n",
       "jet2phi                     float64\n",
       "jet3pt                      float64\n",
       "jet3eta                     float64\n",
       "jet3phi                     float64\n",
       "jet4pt                      float64\n",
       "jet4eta                     float64\n",
       "jet4phi                     float64\n",
       "m_jj                        float64\n",
       "m_jjj                       float64\n",
       "m_lv                        float64\n",
       "m_jlv                       float64\n",
       "m_bb                        float64\n",
       "m_wbb                       float64\n",
       "m_wwbb                      float64\n",
       "dtype: object"
      ]
     },
     "execution_count": 312,
     "metadata": {},
     "output_type": "execute_result"
    }
   ],
   "source": [
    "hb_data_test3.dtypes"
   ]
  },
  {
   "cell_type": "markdown",
   "metadata": {},
   "source": [
    "# Model buiding\n"
   ]
  },
  {
   "cell_type": "markdown",
   "metadata": {},
   "source": [
    "### SVM"
   ]
  },
  {
   "cell_type": "code",
   "execution_count": 324,
   "metadata": {},
   "outputs": [
    {
     "name": "stdout",
     "output_type": "stream",
     "text": [
      "Accuracy: 0.6369446548944189\n",
      "Accuracy: 0.6363424441983798\n"
     ]
    }
   ],
   "source": [
    "from sklearn.svm import SVC # \"Support Vector Classifier\" \n",
    "clf_svm = SVC(kernel='linear', gamma=5) \n",
    "  \n",
    "# fitting x samples and y classes \n",
    "clf_svm.fit(X_train, y_train)\n",
    "predicted_svm = clf_svm.predict(X_train)\n",
    "preds_val_svm=clf_svm.predict(X_val)\n",
    "print ('Accuracy:', accuracy_score(y_train, predicted_svm))\n",
    "print ('Accuracy:', accuracy_score(y_val, preds_val_svm))"
   ]
  },
  {
   "cell_type": "code",
   "execution_count": 325,
   "metadata": {},
   "outputs": [
    {
     "name": "stdout",
     "output_type": "stream",
     "text": [
      "Test Accuracy: 0.6363172746744636\n"
     ]
    }
   ],
   "source": [
    "preds_test_svm=clf_svm.predict(hb_data_test3)\n",
    "print ('Test Accuracy:', accuracy_score(test_target, preds_test_svm))"
   ]
  },
  {
   "cell_type": "code",
   "execution_count": 326,
   "metadata": {},
   "outputs": [
    {
     "name": "stdout",
     "output_type": "stream",
     "text": [
      "Train Classifion Report:\n",
      "              precision    recall  f1-score   support\n",
      "\n",
      "          0       0.69      0.42      0.52     24286\n",
      "          1       0.62      0.83      0.71     27191\n",
      "\n",
      "avg / total       0.65      0.64      0.62     51477\n",
      "\n",
      "Val Classifion Report:\n",
      "              precision    recall  f1-score   support\n",
      "\n",
      "          0       0.68      0.42      0.52      8071\n",
      "          1       0.62      0.83      0.71      9088\n",
      "\n",
      "avg / total       0.65      0.64      0.62     17159\n",
      "\n",
      "Test Classifion Report:\n",
      "              precision    recall  f1-score   support\n",
      "\n",
      "          0       0.68      0.43      0.53     13866\n",
      "          1       0.62      0.82      0.70     15547\n",
      "\n",
      "avg / total       0.65      0.64      0.62     29413\n",
      "\n"
     ]
    }
   ],
   "source": [
    "print ('Train Classifion Report:\\n', classification_report(y_train, predicted_svm))\n",
    "print ('Val Classifion Report:\\n', classification_report(y_val, preds_val_svm))\n",
    "print ('Test Classifion Report:\\n', classification_report(test_target, preds_test_svm))\n"
   ]
  },
  {
   "cell_type": "code",
   "execution_count": 327,
   "metadata": {},
   "outputs": [
    {
     "name": "stdout",
     "output_type": "stream",
     "text": [
      "Train Kappa: 0.25644613251850124\n",
      "Val kappa: 0.2542385309813725\n",
      "Test Kappa: 0.2553838354948952\n"
     ]
    }
   ],
   "source": [
    "print ('Train Kappa:', cohen_kappa_score(y_train, predicted_svm))\n",
    "print ('Val kappa:', cohen_kappa_score(y_val, preds_val_svm))\n",
    "print ('Test Kappa:', cohen_kappa_score(test_target, preds_test_svm))\n"
   ]
  },
  {
   "cell_type": "markdown",
   "metadata": {},
   "source": [
    "### Decison Trees"
   ]
  },
  {
   "cell_type": "code",
   "execution_count": 481,
   "metadata": {},
   "outputs": [],
   "source": [
    "clf_entropy = DecisionTreeClassifier( \n",
    "            criterion = \"entropy\", random_state = 100, \n",
    "            max_depth = 10, min_samples_leaf = 8) \n",
    "clf_gini = DecisionTreeClassifier(criterion = \"gini\", \n",
    "            random_state = 100,max_depth=10, min_samples_leaf=8) \n",
    "  \n",
    "# Performing training \n",
    "clf_entropy.fit(X_train, y_train)\n",
    "clf_gini.fit(X_train, y_train) \n",
    "\n",
    "predicted_DT_gini = clf_gini.predict(X_train)\n",
    "predicted_DT_entropy = clf_entropy.predict(X_train)\n",
    "\n",
    "preds1_gini=clf_gini.predict(X_val)\n",
    "preds1_entropy=clf_entropy.predict(X_val)\n",
    "\n",
    "preds_test_gini=clf_gini.predict(hb_data_test3)\n",
    "preds_test_entropy = clf_entropy.predict(hb_data_test3)\n",
    "\n"
   ]
  },
  {
   "cell_type": "code",
   "execution_count": 469,
   "metadata": {},
   "outputs": [
    {
     "name": "stdout",
     "output_type": "stream",
     "text": [
      "Accuracy train gini: 0.7426617712764925\n",
      "Accuracy val gini: 0.6761466285914097\n",
      "Accuracy train entropy: 0.7391650640091691\n",
      "Accuracy val entropy: 0.6762049070458651\n"
     ]
    }
   ],
   "source": [
    "print ('Accuracy train gini:', accuracy_score(y_train, predicted_DT_gini))\n",
    "print ('Accuracy val gini:', accuracy_score(y_val, preds1_gini))\n",
    "\n",
    "print ('Accuracy train entropy:', accuracy_score(y_train, predicted_DT_entropy))\n",
    "print ('Accuracy val entropy:', accuracy_score(y_val, preds1_entropy))"
   ]
  },
  {
   "cell_type": "code",
   "execution_count": 470,
   "metadata": {},
   "outputs": [
    {
     "name": "stdout",
     "output_type": "stream",
     "text": [
      "Accuracy test gini: 0.682113351239248\n",
      "Accuracy test entropy: 0.6824533369598477\n"
     ]
    }
   ],
   "source": [
    "print ('Accuracy test gini:', accuracy_score(test_target, preds_test_gini))\n",
    "print ('Accuracy test entropy:', accuracy_score(test_target, preds_test_entropy))\n"
   ]
  },
  {
   "cell_type": "code",
   "execution_count": 471,
   "metadata": {},
   "outputs": [
    {
     "name": "stdout",
     "output_type": "stream",
     "text": [
      "Kappa train gini: 0.48327119605857116\n",
      "Kappa val gini: 0.3493739648048684\n",
      "Kappa train entropy: 0.4772004843312231\n",
      "Kappa val entropy: 0.3507210721532541\n",
      "Test Kappa_gini: 0.36190941076572314\n",
      "Test Kappa_entropy: 0.36366404461146085\n"
     ]
    }
   ],
   "source": [
    "print ('Kappa train gini:', cohen_kappa_score(y_train, predicted_DT_gini))\n",
    "print ('Kappa val gini:', cohen_kappa_score(y_val, preds1_gini))\n",
    "\n",
    "print ('Kappa train entropy:', cohen_kappa_score(y_train, predicted_DT_entropy))\n",
    "print ('Kappa val entropy:', cohen_kappa_score(y_val, preds1_entropy))\n",
    "\n",
    "print ('Test Kappa_gini:', cohen_kappa_score(test_target, preds_test_gini))\n",
    "print ('Test Kappa_entropy:', cohen_kappa_score(test_target, preds_test_entropy))\n"
   ]
  },
  {
   "cell_type": "code",
   "execution_count": 474,
   "metadata": {
    "scrolled": false
   },
   "outputs": [
    {
     "data": {
      "text/html": [
       "<div>\n",
       "<style scoped>\n",
       "    .dataframe tbody tr th:only-of-type {\n",
       "        vertical-align: middle;\n",
       "    }\n",
       "\n",
       "    .dataframe tbody tr th {\n",
       "        vertical-align: top;\n",
       "    }\n",
       "\n",
       "    .dataframe thead th {\n",
       "        text-align: right;\n",
       "    }\n",
       "</style>\n",
       "<table border=\"1\" class=\"dataframe\">\n",
       "  <thead>\n",
       "    <tr style=\"text-align: right;\">\n",
       "      <th></th>\n",
       "      <th>0</th>\n",
       "      <th>1</th>\n",
       "    </tr>\n",
       "  </thead>\n",
       "  <tbody>\n",
       "    <tr>\n",
       "      <th>0</th>\n",
       "      <td>0.2822</td>\n",
       "      <td>m_bb</td>\n",
       "    </tr>\n",
       "    <tr>\n",
       "      <th>1</th>\n",
       "      <td>0.1426</td>\n",
       "      <td>m_wwbb</td>\n",
       "    </tr>\n",
       "    <tr>\n",
       "      <th>2</th>\n",
       "      <td>0.0944</td>\n",
       "      <td>m_wbb</td>\n",
       "    </tr>\n",
       "    <tr>\n",
       "      <th>3</th>\n",
       "      <td>0.0806</td>\n",
       "      <td>jet1pt</td>\n",
       "    </tr>\n",
       "    <tr>\n",
       "      <th>4</th>\n",
       "      <td>0.0732</td>\n",
       "      <td>m_jlv</td>\n",
       "    </tr>\n",
       "    <tr>\n",
       "      <th>5</th>\n",
       "      <td>0.0721</td>\n",
       "      <td>m_jjj</td>\n",
       "    </tr>\n",
       "    <tr>\n",
       "      <th>6</th>\n",
       "      <td>0.0447</td>\n",
       "      <td>lepton_pT</td>\n",
       "    </tr>\n",
       "    <tr>\n",
       "      <th>7</th>\n",
       "      <td>0.0315</td>\n",
       "      <td>m_jj</td>\n",
       "    </tr>\n",
       "    <tr>\n",
       "      <th>8</th>\n",
       "      <td>0.0295</td>\n",
       "      <td>missing_energy_magnitude</td>\n",
       "    </tr>\n",
       "    <tr>\n",
       "      <th>9</th>\n",
       "      <td>0.0193</td>\n",
       "      <td>jet2pt</td>\n",
       "    </tr>\n",
       "    <tr>\n",
       "      <th>10</th>\n",
       "      <td>0.0164</td>\n",
       "      <td>jet3pt</td>\n",
       "    </tr>\n",
       "    <tr>\n",
       "      <th>11</th>\n",
       "      <td>0.0138</td>\n",
       "      <td>jet4pt</td>\n",
       "    </tr>\n",
       "    <tr>\n",
       "      <th>12</th>\n",
       "      <td>0.0126</td>\n",
       "      <td>m_lv</td>\n",
       "    </tr>\n",
       "    <tr>\n",
       "      <th>13</th>\n",
       "      <td>0.0105</td>\n",
       "      <td>lepton_eta</td>\n",
       "    </tr>\n",
       "    <tr>\n",
       "      <th>14</th>\n",
       "      <td>0.0098</td>\n",
       "      <td>lepton_phi</td>\n",
       "    </tr>\n",
       "    <tr>\n",
       "      <th>15</th>\n",
       "      <td>0.0094</td>\n",
       "      <td>jet2eta</td>\n",
       "    </tr>\n",
       "    <tr>\n",
       "      <th>16</th>\n",
       "      <td>0.0091</td>\n",
       "      <td>jet1eta</td>\n",
       "    </tr>\n",
       "    <tr>\n",
       "      <th>17</th>\n",
       "      <td>0.0076</td>\n",
       "      <td>jet4eta</td>\n",
       "    </tr>\n",
       "    <tr>\n",
       "      <th>18</th>\n",
       "      <td>0.0075</td>\n",
       "      <td>jet2phi</td>\n",
       "    </tr>\n",
       "    <tr>\n",
       "      <th>19</th>\n",
       "      <td>0.0074</td>\n",
       "      <td>jet3phi</td>\n",
       "    </tr>\n",
       "    <tr>\n",
       "      <th>20</th>\n",
       "      <td>0.0071</td>\n",
       "      <td>jet3eta</td>\n",
       "    </tr>\n",
       "    <tr>\n",
       "      <th>21</th>\n",
       "      <td>0.0066</td>\n",
       "      <td>jet4phi</td>\n",
       "    </tr>\n",
       "    <tr>\n",
       "      <th>22</th>\n",
       "      <td>0.0066</td>\n",
       "      <td>jet1phi</td>\n",
       "    </tr>\n",
       "    <tr>\n",
       "      <th>23</th>\n",
       "      <td>0.0054</td>\n",
       "      <td>missing_energy_phi</td>\n",
       "    </tr>\n",
       "  </tbody>\n",
       "</table>\n",
       "</div>"
      ],
      "text/plain": [
       "         0                         1\n",
       "0   0.2822                      m_bb\n",
       "1   0.1426                    m_wwbb\n",
       "2   0.0944                     m_wbb\n",
       "3   0.0806                    jet1pt\n",
       "4   0.0732                     m_jlv\n",
       "5   0.0721                     m_jjj\n",
       "6   0.0447                 lepton_pT\n",
       "7   0.0315                      m_jj\n",
       "8   0.0295  missing_energy_magnitude\n",
       "9   0.0193                    jet2pt\n",
       "10  0.0164                    jet3pt\n",
       "11  0.0138                    jet4pt\n",
       "12  0.0126                      m_lv\n",
       "13  0.0105                lepton_eta\n",
       "14  0.0098                lepton_phi\n",
       "15  0.0094                   jet2eta\n",
       "16  0.0091                   jet1eta\n",
       "17  0.0076                   jet4eta\n",
       "18  0.0075                   jet2phi\n",
       "19  0.0074                   jet3phi\n",
       "20  0.0071                   jet3eta\n",
       "21  0.0066                   jet4phi\n",
       "22  0.0066                   jet1phi\n",
       "23  0.0054        missing_energy_phi"
      ]
     },
     "execution_count": 474,
     "metadata": {},
     "output_type": "execute_result"
    }
   ],
   "source": [
    "impf_DT=sorted(zip(map(lambda x: round(x, 4), clf_entropy.feature_importances_), X_train.columns), \n",
    "             reverse=True)\n",
    "impf_DT = pd.DataFrame(impf_entropy, index=None)\n",
    "impf_DT\n"
   ]
  },
  {
   "cell_type": "code",
   "execution_count": 494,
   "metadata": {},
   "outputs": [],
   "source": [
    "impf1_DT = impf_DT[1]\n",
    "impf1_DT=impf1_DT[0:7]"
   ]
  },
  {
   "cell_type": "code",
   "execution_count": 503,
   "metadata": {},
   "outputs": [],
   "source": [
    "clf_entropy1 = DecisionTreeClassifier( \n",
    "            criterion = \"entropy\", random_state = 10, \n",
    "            max_depth = 10, min_samples_leaf = 8) \n",
    "clf_gini1 = DecisionTreeClassifier(criterion = \"gini\", \n",
    "            random_state = 10,max_depth=10, min_samples_leaf=8) \n",
    "  \n",
    "# Performing training \n",
    "clf_entropy1.fit(X_train[impf1_DT], y_train)\n",
    "clf_gini1.fit(X_train[impf1_DT], y_train) \n",
    "\n",
    "predicted_DT_gini1 = clf_gini1.predict(X_train[impf1_DT])\n",
    "predicted_DT_entropy1 = clf_entropy1.predict(X_train[impf1_DT])\n",
    "\n",
    "preds1_gini1=clf_gini1.predict(X_val[impf1_DT])\n",
    "preds1_entropy1=clf_entropy1.predict(X_val[impf1_DT])\n",
    "\n",
    "preds_test_gini1=clf_gini1.predict(hb_data_test3[impf1_DT])\n",
    "preds_test_entropy1 = clf_entropy1.predict(hb_data_test3[impf1_DT])\n",
    "\n"
   ]
  },
  {
   "cell_type": "code",
   "execution_count": 504,
   "metadata": {},
   "outputs": [
    {
     "name": "stdout",
     "output_type": "stream",
     "text": [
      "Accuracy train gini: 0.7351049983487771\n",
      "Accuracy val gini: 0.6771956407716068\n",
      "Accuracy train entropy: 0.7301901820230394\n",
      "Accuracy val entropy: 0.6782446529518037\n"
     ]
    }
   ],
   "source": [
    "print ('Accuracy train gini:', accuracy_score(y_train, predicted_DT_gini1))\n",
    "print ('Accuracy val gini:', accuracy_score(y_val, preds1_gini1))\n",
    "\n",
    "print ('Accuracy train entropy:', accuracy_score(y_train, predicted_DT_entropy1))\n",
    "print ('Accuracy val entropy:', accuracy_score(y_val, preds1_entropy1))"
   ]
  },
  {
   "cell_type": "code",
   "execution_count": 505,
   "metadata": {},
   "outputs": [
    {
     "name": "stdout",
     "output_type": "stream",
     "text": [
      "Accuracy test gini: 0.682147349811308\n",
      "Accuracy test entropy: 0.6862951756026247\n"
     ]
    }
   ],
   "source": [
    "print ('Accuracy test gini:', accuracy_score(test_target, preds_test_gini1))\n",
    "print ('Accuracy test entropy:', accuracy_score(test_target, preds_test_entropy1))\n"
   ]
  },
  {
   "cell_type": "code",
   "execution_count": 506,
   "metadata": {},
   "outputs": [
    {
     "name": "stdout",
     "output_type": "stream",
     "text": [
      "Kappa train gini: 0.46808450283638936\n",
      "Kappa val gini: 0.35185925102410476\n",
      "Kappa train entropy: 0.4580161873415587\n",
      "Kappa val entropy: 0.35368759563756436\n",
      "Test Kappa_gini: 0.36197019020651255\n",
      "Test Kappa_entropy: 0.369858691551472\n"
     ]
    }
   ],
   "source": [
    "print ('Kappa train gini:', cohen_kappa_score(y_train, predicted_DT_gini1))\n",
    "print ('Kappa val gini:', cohen_kappa_score(y_val, preds1_gini1))\n",
    "\n",
    "print ('Kappa train entropy:', cohen_kappa_score(y_train, predicted_DT_entropy1))\n",
    "print ('Kappa val entropy:', cohen_kappa_score(y_val, preds1_entropy1))\n",
    "\n",
    "print ('Test Kappa_gini:', cohen_kappa_score(test_target, preds_test_gini1))\n",
    "print ('Test Kappa_entropy:', cohen_kappa_score(test_target, preds_test_entropy1))\n"
   ]
  },
  {
   "cell_type": "code",
   "execution_count": null,
   "metadata": {},
   "outputs": [],
   "source": []
  },
  {
   "cell_type": "markdown",
   "metadata": {},
   "source": [
    "### Random Forest"
   ]
  },
  {
   "cell_type": "code",
   "execution_count": 313,
   "metadata": {
    "scrolled": false
   },
   "outputs": [
    {
     "data": {
      "text/plain": [
       "RandomForestClassifier(bootstrap=True, class_weight=None, criterion='entropy',\n",
       "            max_depth=5, max_features=18, max_leaf_nodes=None,\n",
       "            min_impurity_decrease=0.0, min_impurity_split=None,\n",
       "            min_samples_leaf=1, min_samples_split=2,\n",
       "            min_weight_fraction_leaf=0.0, n_estimators=60, n_jobs=10,\n",
       "            oob_score=False, random_state=1, verbose=0, warm_start=False)"
      ]
     },
     "execution_count": 313,
     "metadata": {},
     "output_type": "execute_result"
    }
   ],
   "source": [
    "#Random Forest\n",
    "np.random.seed(12345)\n",
    "clf = RandomForestClassifier(n_estimators=60, criterion='entropy',n_jobs=10, \n",
    "                             random_state=1,max_depth=5, max_features=18,bootstrap=True)\n",
    "\n",
    "# Train the Classifier to take the training features and learn how they relate\n",
    "# to the training y (the species)\n",
    "clf.fit(X_train, y_train)\n"
   ]
  },
  {
   "cell_type": "code",
   "execution_count": 314,
   "metadata": {},
   "outputs": [
    {
     "name": "stdout",
     "output_type": "stream",
     "text": [
      "Train Accuracy: 0.688365677875556\n",
      "Val Accuracy: 0.6831983215805116\n"
     ]
    }
   ],
   "source": [
    "predicted_rf = clf.predict(X_train)\n",
    "preds1=clf.predict(X_val)\n",
    "print ('Train Accuracy:', accuracy_score(y_train, predicted_rf))\n",
    "print ('Val Accuracy:', accuracy_score(y_val, preds1))\n"
   ]
  },
  {
   "cell_type": "code",
   "execution_count": 315,
   "metadata": {},
   "outputs": [
    {
     "name": "stdout",
     "output_type": "stream",
     "text": [
      "Test Accuracy: 0.6802774283480094\n"
     ]
    }
   ],
   "source": [
    "preds_test=clf.predict(hb_data_test3)\n",
    "print ('Test Accuracy:', accuracy_score(test_target, preds_test))"
   ]
  },
  {
   "cell_type": "code",
   "execution_count": 316,
   "metadata": {},
   "outputs": [
    {
     "name": "stdout",
     "output_type": "stream",
     "text": [
      "Train Classifion Report:\n",
      "              precision    recall  f1-score   support\n",
      "\n",
      "          0       0.67      0.68      0.67     24286\n",
      "          1       0.71      0.70      0.70     27191\n",
      "\n",
      "avg / total       0.69      0.69      0.69     51477\n",
      "\n",
      "Val Classifion Report:\n",
      "              precision    recall  f1-score   support\n",
      "\n",
      "          0       0.66      0.67      0.67      8071\n",
      "          1       0.70      0.69      0.70      9088\n",
      "\n",
      "avg / total       0.68      0.68      0.68     17159\n",
      "\n"
     ]
    }
   ],
   "source": [
    "print ('Train Classifion Report:\\n', classification_report(y_train, predicted_rf))\n",
    "print ('Val Classifion Report:\\n', classification_report(y_val, preds1))"
   ]
  },
  {
   "cell_type": "code",
   "execution_count": 317,
   "metadata": {
    "scrolled": true
   },
   "outputs": [
    {
     "name": "stdout",
     "output_type": "stream",
     "text": [
      "Test Classifion Report:\n",
      "              precision    recall  f1-score   support\n",
      "\n",
      "          0       0.66      0.67      0.67     13866\n",
      "          1       0.70      0.69      0.69     15547\n",
      "\n",
      "avg / total       0.68      0.68      0.68     29413\n",
      "\n"
     ]
    }
   ],
   "source": [
    "print ('Test Classifion Report:\\n', classification_report(test_target, preds_test))"
   ]
  },
  {
   "cell_type": "code",
   "execution_count": 318,
   "metadata": {},
   "outputs": [
    {
     "name": "stdout",
     "output_type": "stream",
     "text": [
      "Train Kappa: 0.3753281752042569\n",
      "Val kappa: 0.3649291187893111\n"
     ]
    }
   ],
   "source": [
    "print ('Train Kappa:', cohen_kappa_score(y_train, predicted_rf))\n",
    "print ('Val kappa:', cohen_kappa_score(y_val, preds1))"
   ]
  },
  {
   "cell_type": "code",
   "execution_count": 319,
   "metadata": {},
   "outputs": [
    {
     "name": "stdout",
     "output_type": "stream",
     "text": [
      "Test Kappa: 0.359333647712449\n"
     ]
    }
   ],
   "source": [
    "print ('Test Kappa:', cohen_kappa_score(test_target, preds_test))"
   ]
  },
  {
   "cell_type": "code",
   "execution_count": 329,
   "metadata": {},
   "outputs": [
    {
     "data": {
      "text/html": [
       "<div>\n",
       "<style scoped>\n",
       "    .dataframe tbody tr th:only-of-type {\n",
       "        vertical-align: middle;\n",
       "    }\n",
       "\n",
       "    .dataframe tbody tr th {\n",
       "        vertical-align: top;\n",
       "    }\n",
       "\n",
       "    .dataframe thead th {\n",
       "        text-align: right;\n",
       "    }\n",
       "</style>\n",
       "<table border=\"1\" class=\"dataframe\">\n",
       "  <thead>\n",
       "    <tr style=\"text-align: right;\">\n",
       "      <th></th>\n",
       "      <th>0</th>\n",
       "      <th>1</th>\n",
       "    </tr>\n",
       "  </thead>\n",
       "  <tbody>\n",
       "    <tr>\n",
       "      <th>0</th>\n",
       "      <td>0.4409</td>\n",
       "      <td>m_bb</td>\n",
       "    </tr>\n",
       "    <tr>\n",
       "      <th>1</th>\n",
       "      <td>0.1662</td>\n",
       "      <td>m_wwbb</td>\n",
       "    </tr>\n",
       "    <tr>\n",
       "      <th>2</th>\n",
       "      <td>0.1364</td>\n",
       "      <td>m_wbb</td>\n",
       "    </tr>\n",
       "    <tr>\n",
       "      <th>3</th>\n",
       "      <td>0.0780</td>\n",
       "      <td>m_jjj</td>\n",
       "    </tr>\n",
       "    <tr>\n",
       "      <th>4</th>\n",
       "      <td>0.0695</td>\n",
       "      <td>jet1pt</td>\n",
       "    </tr>\n",
       "    <tr>\n",
       "      <th>5</th>\n",
       "      <td>0.0555</td>\n",
       "      <td>m_jlv</td>\n",
       "    </tr>\n",
       "    <tr>\n",
       "      <th>6</th>\n",
       "      <td>0.0225</td>\n",
       "      <td>missing_energy_magnitude</td>\n",
       "    </tr>\n",
       "    <tr>\n",
       "      <th>7</th>\n",
       "      <td>0.0105</td>\n",
       "      <td>lepton_pT</td>\n",
       "    </tr>\n",
       "    <tr>\n",
       "      <th>8</th>\n",
       "      <td>0.0104</td>\n",
       "      <td>jet2pt</td>\n",
       "    </tr>\n",
       "    <tr>\n",
       "      <th>9</th>\n",
       "      <td>0.0056</td>\n",
       "      <td>m_jj</td>\n",
       "    </tr>\n",
       "    <tr>\n",
       "      <th>10</th>\n",
       "      <td>0.0011</td>\n",
       "      <td>jet4pt</td>\n",
       "    </tr>\n",
       "    <tr>\n",
       "      <th>11</th>\n",
       "      <td>0.0006</td>\n",
       "      <td>m_lv</td>\n",
       "    </tr>\n",
       "    <tr>\n",
       "      <th>12</th>\n",
       "      <td>0.0004</td>\n",
       "      <td>jet1eta</td>\n",
       "    </tr>\n",
       "    <tr>\n",
       "      <th>13</th>\n",
       "      <td>0.0003</td>\n",
       "      <td>jet4eta</td>\n",
       "    </tr>\n",
       "    <tr>\n",
       "      <th>14</th>\n",
       "      <td>0.0003</td>\n",
       "      <td>jet3pt</td>\n",
       "    </tr>\n",
       "    <tr>\n",
       "      <th>15</th>\n",
       "      <td>0.0003</td>\n",
       "      <td>jet3eta</td>\n",
       "    </tr>\n",
       "    <tr>\n",
       "      <th>16</th>\n",
       "      <td>0.0003</td>\n",
       "      <td>jet2phi</td>\n",
       "    </tr>\n",
       "    <tr>\n",
       "      <th>17</th>\n",
       "      <td>0.0003</td>\n",
       "      <td>jet2eta</td>\n",
       "    </tr>\n",
       "    <tr>\n",
       "      <th>18</th>\n",
       "      <td>0.0003</td>\n",
       "      <td>jet1phi</td>\n",
       "    </tr>\n",
       "    <tr>\n",
       "      <th>19</th>\n",
       "      <td>0.0002</td>\n",
       "      <td>missing_energy_phi</td>\n",
       "    </tr>\n",
       "    <tr>\n",
       "      <th>20</th>\n",
       "      <td>0.0002</td>\n",
       "      <td>lepton_phi</td>\n",
       "    </tr>\n",
       "    <tr>\n",
       "      <th>21</th>\n",
       "      <td>0.0001</td>\n",
       "      <td>lepton_eta</td>\n",
       "    </tr>\n",
       "    <tr>\n",
       "      <th>22</th>\n",
       "      <td>0.0001</td>\n",
       "      <td>jet4phi</td>\n",
       "    </tr>\n",
       "    <tr>\n",
       "      <th>23</th>\n",
       "      <td>0.0001</td>\n",
       "      <td>jet3phi</td>\n",
       "    </tr>\n",
       "  </tbody>\n",
       "</table>\n",
       "</div>"
      ],
      "text/plain": [
       "         0                         1\n",
       "0   0.4409                      m_bb\n",
       "1   0.1662                    m_wwbb\n",
       "2   0.1364                     m_wbb\n",
       "3   0.0780                     m_jjj\n",
       "4   0.0695                    jet1pt\n",
       "5   0.0555                     m_jlv\n",
       "6   0.0225  missing_energy_magnitude\n",
       "7   0.0105                 lepton_pT\n",
       "8   0.0104                    jet2pt\n",
       "9   0.0056                      m_jj\n",
       "10  0.0011                    jet4pt\n",
       "11  0.0006                      m_lv\n",
       "12  0.0004                   jet1eta\n",
       "13  0.0003                   jet4eta\n",
       "14  0.0003                    jet3pt\n",
       "15  0.0003                   jet3eta\n",
       "16  0.0003                   jet2phi\n",
       "17  0.0003                   jet2eta\n",
       "18  0.0003                   jet1phi\n",
       "19  0.0002        missing_energy_phi\n",
       "20  0.0002                lepton_phi\n",
       "21  0.0001                lepton_eta\n",
       "22  0.0001                   jet4phi\n",
       "23  0.0001                   jet3phi"
      ]
     },
     "execution_count": 329,
     "metadata": {},
     "output_type": "execute_result"
    }
   ],
   "source": [
    "impf=sorted(zip(map(lambda x: round(x, 4), clf.feature_importances_), X_train.columns), \n",
    "             reverse=True)\n",
    "impf = pd.DataFrame(impf, index=None)\n",
    "impf"
   ]
  },
  {
   "cell_type": "code",
   "execution_count": 431,
   "metadata": {},
   "outputs": [],
   "source": [
    "impf1 = impf[1]\n",
    "impf1=impf1[0:18]"
   ]
  },
  {
   "cell_type": "code",
   "execution_count": 448,
   "metadata": {},
   "outputs": [],
   "source": [
    "np.random.seed(11111)"
   ]
  },
  {
   "cell_type": "code",
   "execution_count": 456,
   "metadata": {
    "scrolled": false
   },
   "outputs": [
    {
     "data": {
      "text/plain": [
       "RandomForestClassifier(bootstrap=True, class_weight=None, criterion='gini',\n",
       "            max_depth=10, max_features=12, max_leaf_nodes=None,\n",
       "            min_impurity_decrease=0.0, min_impurity_split=None,\n",
       "            min_samples_leaf=4, min_samples_split=2,\n",
       "            min_weight_fraction_leaf=0.0, n_estimators=100, n_jobs=10,\n",
       "            oob_score=True, random_state=3, verbose=0, warm_start=False)"
      ]
     },
     "execution_count": 456,
     "metadata": {},
     "output_type": "execute_result"
    }
   ],
   "source": [
    "# Create a random forest Classifier. By convention, clf means 'Classifier'\n",
    "clf1 = RandomForestClassifier(n_estimators=100, criterion='gini',n_jobs=10, \n",
    "                             random_state=3,max_depth=10, max_features=12,bootstrap=True, \n",
    "                             min_samples_leaf=4,oob_score=True)\n",
    "\n",
    "# Train the Classifier to take the training features and learn how they relate\n",
    "# to the training y (the species)\n",
    "\n",
    "clf1.fit(X_train[impf1], y_train)"
   ]
  },
  {
   "cell_type": "code",
   "execution_count": 457,
   "metadata": {},
   "outputs": [
    {
     "name": "stdout",
     "output_type": "stream",
     "text": [
      "Train Accuracy: 0.688365677875556\n",
      "Val Accuracy: 0.6831983215805116\n"
     ]
    }
   ],
   "source": [
    "predicted_rf1 = clf1.predict(X_train[impf1])\n",
    "preds2=clf1.predict(X_val[impf1])\n",
    "print ('Train Accuracy:', accuracy_score(y_train, predicted_rf))\n",
    "print ('Val Accuracy:', accuracy_score(y_val, preds1))\n"
   ]
  },
  {
   "cell_type": "code",
   "execution_count": 458,
   "metadata": {},
   "outputs": [
    {
     "name": "stdout",
     "output_type": "stream",
     "text": [
      "Test Accuracy: 0.710264168904906\n"
     ]
    }
   ],
   "source": [
    "preds_test1=clf1.predict(hb_data_test3[impf1])\n",
    "print ('Test Accuracy:', accuracy_score(test_target, preds_test1))"
   ]
  },
  {
   "cell_type": "code",
   "execution_count": 459,
   "metadata": {},
   "outputs": [
    {
     "name": "stdout",
     "output_type": "stream",
     "text": [
      "Train Classifion Report:\n",
      "              precision    recall  f1-score   support\n",
      "\n",
      "          0       0.78      0.77      0.77     24286\n",
      "          1       0.79      0.81      0.80     27191\n",
      "\n",
      "avg / total       0.79      0.79      0.79     51477\n",
      "\n",
      "Val Classifion Report:\n",
      "              precision    recall  f1-score   support\n",
      "\n",
      "          0       0.70      0.69      0.69      8071\n",
      "          1       0.73      0.73      0.73      9088\n",
      "\n",
      "avg / total       0.71      0.71      0.71     17159\n",
      "\n"
     ]
    }
   ],
   "source": [
    "print ('Train Classifion Report:\\n', classification_report(y_train, predicted_rf1))\n",
    "print ('Val Classifion Report:\\n', classification_report(y_val, preds2))"
   ]
  },
  {
   "cell_type": "code",
   "execution_count": 460,
   "metadata": {
    "scrolled": true
   },
   "outputs": [
    {
     "name": "stdout",
     "output_type": "stream",
     "text": [
      "Test Classifion Report:\n",
      "              precision    recall  f1-score   support\n",
      "\n",
      "          0       0.69      0.69      0.69     13866\n",
      "          1       0.73      0.73      0.73     15547\n",
      "\n",
      "avg / total       0.71      0.71      0.71     29413\n",
      "\n"
     ]
    }
   ],
   "source": [
    "print ('Test Classifion Report:\\n', classification_report(test_target, preds_test1))"
   ]
  },
  {
   "cell_type": "code",
   "execution_count": 461,
   "metadata": {
    "scrolled": true
   },
   "outputs": [
    {
     "name": "stdout",
     "output_type": "stream",
     "text": [
      "Train Kappa: 0.5757861597372083\n",
      "Val kappa: 0.42644260585849403\n"
     ]
    }
   ],
   "source": [
    "print ('Train Kappa:', cohen_kappa_score(y_train, predicted_rf1))\n",
    "print ('Val kappa:', cohen_kappa_score(y_val, preds2))"
   ]
  },
  {
   "cell_type": "code",
   "execution_count": 462,
   "metadata": {},
   "outputs": [
    {
     "name": "stdout",
     "output_type": "stream",
     "text": [
      "Test Kappa: 0.4186702015643772\n"
     ]
    }
   ],
   "source": [
    "print ('Test Kappa:', cohen_kappa_score(test_target, preds_test1))"
   ]
  }
 ],
 "metadata": {
  "kernelspec": {
   "display_name": "Python 3",
   "language": "python",
   "name": "python3"
  },
  "language_info": {
   "codemirror_mode": {
    "name": "ipython",
    "version": 3
   },
   "file_extension": ".py",
   "mimetype": "text/x-python",
   "name": "python",
   "nbconvert_exporter": "python",
   "pygments_lexer": "ipython3",
   "version": "3.6.5"
  }
 },
 "nbformat": 4,
 "nbformat_minor": 2
}
